{
 "cells": [
  {
   "cell_type": "markdown",
   "id": "e9b93048",
   "metadata": {},
   "source": [
    "# Thu thập dữ liệu xe ô tô\n",
    "\n",
    "Notebook này sử dụng các scraper đã xây dựng trong thư mục `src/data` để thu thập dữ liệu xe ô tô từ các trang web."
   ]
  },
  {
   "cell_type": "code",
   "execution_count": null,
   "id": "9c83c777",
   "metadata": {},
   "outputs": [],
   "source": [
    "import sys\n",
    "import os\n",
    "import pandas as pd\n",
    "import time\n",
    "from datetime import datetime\n",
    "# Tắt logging để tránh lỗi Unicode\n",
    "import logging\n",
    "logging.getLogger().setLevel(logging.ERROR)  # Chỉ hiển thị lỗi nghiêm trọng\n",
    "\n",
    "# Đường dẫn tới thư mục gốc dự án\n",
    "project_root = os.path.abspath(os.path.join(os.getcwd(), '..'))\n",
    "if project_root not in sys.path:\n",
    "    sys.path.append(project_root)\n",
    "    \n",
    "print(f\"Project root: {project_root}\")"
   ]
  },
  {
   "cell_type": "code",
   "execution_count": null,
   "id": "eec31fce",
   "metadata": {},
   "outputs": [],
   "source": [
    "# Tạo thư mục data/raw nếu chưa tồn tại\n",
    "raw_data_dir = os.path.join(project_root, 'data', 'raw')\n",
    "if not os.path.exists(raw_data_dir):\n",
    "    os.makedirs(raw_data_dir)\n",
    "    print(f\"Đã tạo thư mục: {raw_data_dir}\")\n",
    "else:\n",
    "    print(f\"Thư mục đã tồn tại: {raw_data_dir}\")"
   ]
  },
  {
   "cell_type": "code",
   "execution_count": null,
   "id": "9a6c51e0",
   "metadata": {},
   "outputs": [],
   "source": [
    "# Import scraper\n",
    "# Kiểm tra nếu file scraper.py tồn tại trong thư mục hiện tại\n",
    "if os.path.exists('scraper.py'):\n",
    "    from scraper import BonBanhScraper\n",
    "    print(\"Đã import BonBanhScraper từ thư mục hiện tại\")\n",
    "else:\n",
    "    # Thử import từ thư mục src/data\n",
    "    try:\n",
    "        from src.data.scraper import BonBanhScraper\n",
    "        print(\"Đã import BonBanhScraper từ src.data.scraper\")\n",
    "    except ImportError:\n",
    "        # Nếu import từ module không thành công, import trực tiếp từ file\n",
    "        import importlib.util\n",
    "        \n",
    "        # Đường dẫn đến file scraper.py\n",
    "        scraper_path = os.path.join(project_root, 'src', 'data', 'scraper.py')\n",
    "        \n",
    "        if os.path.exists(scraper_path):\n",
    "            spec = importlib.util.spec_from_file_location(\"scraper\", scraper_path)\n",
    "            scraper_module = importlib.util.module_from_spec(spec)\n",
    "            sys.modules[\"scraper\"] = scraper_module\n",
    "            spec.loader.exec_module(scraper_module)\n",
    "            BonBanhScraper = scraper_module.BonBanhScraper\n",
    "            print(\"Đã import BonBanhScraper từ file trong src/data\")\n",
    "        else:\n",
    "            print(f\"Không tìm thấy file scraper.py tại: {scraper_path}\")\n",
    "            print(\"Vui lòng cung cấp đường dẫn đúng tới file scraper.py\")"
   ]
  },
  {
   "cell_type": "code",
   "execution_count": null,
   "id": "b59e336b",
   "metadata": {},
   "outputs": [],
   "source": [
    "# Cấu hình đường dẫn đầu ra\n",
    "output_path = os.path.join(project_root, 'data', 'raw', 'bonbanh_data.csv')\n",
    "print(f\"Dữ liệu sẽ được lưu vào: {output_path}\")\n",
    "\n",
    "# Khởi tạo scraper\n",
    "scraper = BonBanhScraper(base_url=\"https://bonbanh.com\", output_path=output_path)"
   ]
  },
  {
   "cell_type": "code",
   "execution_count": null,
   "id": "89a6988b",
   "metadata": {},
   "outputs": [],
   "source": [
    "# Nhập các tham số thu thập dữ liệu\n",
    "max_pages = 10  # Số trang tối đa để thu thập (có thể thay đổi)\n",
    "max_cars = 1000000  # Số lượng xe tối đa (có thể thay đổi hoặc để None nếu muốn lấy tất cả)\n",
    "\n",
    "print(f\"Chuẩn bị thu thập dữ liệu từ tối đa {max_pages} trang, với tối đa {max_cars if max_cars else 'tất cả'} xe\")"
   ]
  },
  {
   "cell_type": "code",
   "execution_count": null,
   "id": "8b801370",
   "metadata": {},
   "outputs": [],
   "source": [
    "# Chạy scraper để thu thập dữ liệu\n",
    "start_time = time.time()\n",
    "\n",
    "print(f\"Bắt đầu thu thập dữ liệu lúc {datetime.now().strftime('%Y-%m-%d %H:%M:%S')}\")\n",
    "\n",
    "# Thu thập danh sách tin đăng\n",
    "print(\"\\n1. Thu thập danh sách tin đăng...\")\n",
    "listings = scraper.scrape_listings(max_pages=max_pages)\n",
    "print(f\"Đã thu thập được {len(listings)} tin đăng\")\n",
    "\n",
    "# Thu thập thông tin chi tiết\n",
    "print(\"\\n2. Thu thập thông tin chi tiết cho các xe...\")\n",
    "car_details = scraper.scrape_car_details(listings, max_cars=max_cars)\n",
    "print(f\"Đã thu thập thông tin chi tiết cho {len(car_details)} xe\")\n",
    "\n",
    "# Lưu dữ liệu vào CSV\n",
    "print(\"\\n3. Lưu dữ liệu vào file CSV...\")\n",
    "df = scraper.save_to_csv(car_details, output_path)\n",
    "print(f\"Đã lưu {len(car_details)} mẫu dữ liệu vào {output_path}\")\n",
    "\n",
    "# Tính thời gian thực hiện\n",
    "elapsed_time = time.time() - start_time\n",
    "print(f\"\\nTổng thời gian thu thập: {elapsed_time:.2f} giây\")"
   ]
  },
  {
   "cell_type": "code",
   "execution_count": null,
   "id": "6ad7ac2c",
   "metadata": {},
   "outputs": [],
   "source": [
    "# Hiển thị thông tin về dữ liệu đã thu thập\n",
    "print(f\"Đã thu thập {len(df)} mẫu dữ liệu với {len(df.columns)} thuộc tính\")\n",
    "print(f\"Các cột trong dữ liệu: {df.columns.tolist()}\")\n",
    "\n",
    "# Hiển thị 5 mẫu đầu tiên\n",
    "print(\"\\n5 mẫu đầu tiên:\")\n",
    "df.head(5)"
   ]
  }
 ],
 "metadata": {
  "kernelspec": {
   "display_name": "Python 3",
   "language": "python",
   "name": "python3"
  },
  "language_info": {
   "codemirror_mode": {
    "name": "ipython",
    "version": 3
   },
   "file_extension": ".py",
   "mimetype": "text/x-python",
   "name": "python",
   "nbconvert_exporter": "python",
   "pygments_lexer": "ipython3",
   "version": "3.12.2"
  }
 },
 "nbformat": 4,
 "nbformat_minor": 5
}
